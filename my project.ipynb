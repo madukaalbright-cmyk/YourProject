{
 "cells": [
  {
   "cell_type": "code",
   "execution_count": null,
   "id": "795c0852",
   "metadata": {},
   "outputs": [],
   "source": [
    "print ('hello world')"
   ]
  },
  {
   "cell_type": "markdown",
   "id": "c063cae9",
   "metadata": {},
   "source": [
    "printing hello world"
   ]
  }
 ],
 "metadata": {
  "language_info": {
   "name": "python"
  }
 },
 "nbformat": 4,
 "nbformat_minor": 5
}
